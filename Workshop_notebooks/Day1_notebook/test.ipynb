{
 "cells": [
  {
   "cell_type": "code",
   "execution_count": 2,
   "metadata": {
    "collapsed": true
   },
   "outputs": [],
   "source": [
    "from GetData.read_data import get_stock_data\n",
    "from _datetime import datetime"
   ]
  },
  {
   "cell_type": "code",
   "execution_count": 3,
   "metadata": {},
   "outputs": [],
   "source": [
    "Amazon = get_stock_data(name = 'AMZN', start = datetime(2017, 1, 1), end=datetime(2019, 1, 1))"
   ]
  },
  {
   "cell_type": "code",
   "execution_count": 4,
   "metadata": {},
   "outputs": [
    {
     "name": "stdout",
     "output_type": "stream",
     "text": [
      "<class 'pandas.core.frame.DataFrame'>\n"
     ]
    }
   ],
   "source": [
    "print(type(Amazon))"
   ]
  },
  {
   "cell_type": "code",
   "execution_count": 5,
   "metadata": {},
   "outputs": [],
   "source": [
    "import pandas as pd\n",
    "import numpy as np\n",
    "import matplotlib.pyplot as plt"
   ]
  },
  {
   "cell_type": "code",
   "execution_count": 6,
   "metadata": {},
   "outputs": [
    {
     "name": "stdout",
     "output_type": "stream",
     "text": [
      "              Open      High       Low   Close     Volume  Ex-Dividend  \\\nDate                                                                     \n2017-01-03  757.92  758.7595  747.7000  753.67  3521066.0          0.0   \n2017-01-04  758.39  759.6800  754.2000  757.18  2510526.0          0.0   \n2017-01-05  761.55  782.3999  760.2557  780.45  5830068.0          0.0   \n2017-01-06  782.36  799.4400  778.4800  795.99  5986234.0          0.0   \n2017-01-09  798.00  801.7742  791.7700  796.92  3446109.0          0.0   \n\n            Split Ratio  Adj. Open  Adj. High  Adj. Low  Adj. Close  \\\nDate                                                                  \n2017-01-03          1.0     757.92   758.7595  747.7000      753.67   \n2017-01-04          1.0     758.39   759.6800  754.2000      757.18   \n2017-01-05          1.0     761.55   782.3999  760.2557      780.45   \n2017-01-06          1.0     782.36   799.4400  778.4800      795.99   \n2017-01-09          1.0     798.00   801.7742  791.7700      796.92   \n\n            Adj. Volume  \nDate                     \n2017-01-03    3521066.0  \n2017-01-04    2510526.0  \n2017-01-05    5830068.0  \n2017-01-06    5986234.0  \n2017-01-09    3446109.0  \n"
     ]
    }
   ],
   "source": [
    "print(Amazon.head())"
   ]
  },
  {
   "cell_type": "code",
   "execution_count": 7,
   "metadata": {},
   "outputs": [
    {
     "data": {
      "text/plain": [
       "[count     308.000000\n mean     1056.104318\n std       212.643636\n min       757.920000\n 25%       910.690000\n 50%       988.745000\n 75%      1166.657500\n max      1615.960000\n Name: Open, dtype: float64, count     308.000000\n mean     1056.016477\n std       212.041910\n min       753.670000\n 25%       908.865000\n 50%       984.955000\n 75%      1162.795000\n max      1598.390000\n Name: Close, dtype: float64]"
      ]
     },
     "execution_count": 7,
     "metadata": {},
     "output_type": "execute_result"
    }
   ],
   "source": [
    "[Amazon.Open.describe(), Amazon.Close.describe()]"
   ]
  },
  {
   "cell_type": "code",
   "execution_count": 8,
   "metadata": {},
   "outputs": [],
   "source": [
    "\n",
    "fit = np.polyfit(pd.to_numeric(Amazon.index), Amazon.Open, deg=2)"
   ]
  },
  {
   "cell_type": "code",
   "execution_count": 11,
   "metadata": {},
   "outputs": [],
   "source": [
    "y = np.polyval(fit, pd.to_numeric(Amazon.index))"
   ]
  },
  {
   "cell_type": "code",
   "execution_count": 12,
   "metadata": {},
   "outputs": [
    {
     "data": {
      "text/plain": [
       "[<matplotlib.lines.Line2D at 0xd8b0e70>]"
      ]
     },
     "execution_count": 12,
     "metadata": {},
     "output_type": "execute_result"
    },
    {
     "data": {
      "image/png": "[encoded data removed]",
      "text/plain": [
       "<Figure size 432x288 with 1 Axes>"
      ]
     },
     "metadata": {},
     "output_type": "display_data"
    }
   ],
   "source": [
    "plt.plot(Amazon.index, y)\n",
    "plt.plot(Amazon.index, Amazon.Open)"
   ]
  },
  {
   "cell_type": "code",
   "execution_count": 13,
   "metadata": {},
   "outputs": [
    {
     "data": {
      "text/plain": [
       "308"
      ]
     },
     "execution_count": 13,
     "metadata": {},
     "output_type": "execute_result"
    }
   ],
   "source": [
    "n = len(Amazon.index)\n",
    "n"
   ]
  },
  {
   "cell_type": "code",
   "execution_count": 14,
   "metadata": {},
   "outputs": [
    {
     "data": {
      "text/plain": [
       "2571.709759254167"
      ]
     },
     "execution_count": 14,
     "metadata": {},
     "output_type": "execute_result"
    }
   ],
   "source": [
    "import math\n",
    "n * math.log(sum((y-Amazon.Open)*(y-Amazon.Open)) / n) + 6 * math.log(n)"
   ]
  },
  {
   "cell_type": "code",
   "execution_count": 15,
   "metadata": {},
   "outputs": [],
   "source": []
  },
  {
   "cell_type": "code",
   "execution_count": null,
   "metadata": {},
   "outputs": [],
   "source": []
  }
 ],
 "metadata": {
  "kernelspec": {
   "display_name": "Python 2",
   "language": "python",
   "name": "python2"
  },
  "language_info": {
   "codemirror_mode": {
    "name": "ipython",
    "version": 2
   },
   "file_extension": ".py",
   "mimetype": "text/x-python",
   "name": "python",
   "nbconvert_exporter": "python",
   "pygments_lexer": "ipython2",
   "version": "2.7.6"
  }
 },
 "nbformat": 4,
 "nbformat_minor": 0
}
